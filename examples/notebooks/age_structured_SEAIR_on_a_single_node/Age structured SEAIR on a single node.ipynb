{
 "cells": [
  {
   "cell_type": "code",
   "execution_count": 1,
   "metadata": {},
   "outputs": [
    {
     "name": "stdout",
     "output_type": "stream",
     "text": [
      "running build_ext\n",
      "copying build/lib.linux-x86_64-3.7/pyrossgeo/Simulation.cpython-37m-x86_64-linux-gnu.so -> pyrossgeo\n",
      "copying build/lib.linux-x86_64-3.7/pyrossgeo/__defs__.cpython-37m-x86_64-linux-gnu.so -> pyrossgeo\n",
      "copying build/lib.linux-x86_64-3.7/pyrossgeo/_helpers.cpython-37m-x86_64-linux-gnu.so -> pyrossgeo\n",
      "copying build/lib.linux-x86_64-3.7/pyrossgeo/_initialization.cpython-37m-x86_64-linux-gnu.so -> pyrossgeo\n",
      "copying build/lib.linux-x86_64-3.7/pyrossgeo/_simulation.cpython-37m-x86_64-linux-gnu.so -> pyrossgeo\n"
     ]
    }
   ],
   "source": [
    "# Compile and import local pyrossgeo module\n",
    "import os, sys\n",
    "owd = os.getcwd()\n",
    "os.chdir('../../../')\n",
    "sys.path.insert(0,'../../../')\n",
    "!sh local_setup.sh\n",
    "os.chdir(owd)\n",
    "\n",
    "import numpy as np\n",
    "import matplotlib as mpl\n",
    "import matplotlib.pyplot as plt\n",
    "import pyrossgeo\n",
    "\n",
    "import datetime\n",
    "import time"
   ]
  },
  {
   "cell_type": "markdown",
   "metadata": {},
   "source": [
    "Simulation parameters"
   ]
  },
  {
   "cell_type": "code",
   "execution_count": 2,
   "metadata": {},
   "outputs": [],
   "source": [
    "model_path = 'model.json' \n",
    "commuter_networks_path = 'commuter_networks.csv'\n",
    "node_parameters_path = 'node_parameters.csv'\n",
    "cnode_parameters_path = 'cnode_parameters.csv' \n",
    "contact_matrices_path = 'contact_matrices.json' \n",
    "node_cmatrices_path = 'node_cmatrices.csv' \n",
    "cnode_cmatrices_path = 'cnode_cmatrices.csv' \n",
    "node_positions_path = 'node_positions.csv' \n",
    "node_populations_path = 'node_populations.csv' "
   ]
  },
  {
   "cell_type": "markdown",
   "metadata": {},
   "source": [
    "Simulation settings"
   ]
  },
  {
   "cell_type": "code",
   "execution_count": 3,
   "metadata": {},
   "outputs": [],
   "source": [
    "t_start = 0\n",
    "t_end = 24*60*400\n",
    "dt = 1"
   ]
  },
  {
   "cell_type": "markdown",
   "metadata": {},
   "source": [
    "Run simulation"
   ]
  },
  {
   "cell_type": "code",
   "execution_count": 4,
   "metadata": {},
   "outputs": [
    {
     "name": "stderr",
     "output_type": "stream",
     "text": [
      "/home/lukas/anaconda3/lib/python3.7/site-packages/ipykernel_launcher.py:6: UserWarning: loadtxt: Empty input file: \"commuter_networks.csv\"\n",
      "  \n"
     ]
    },
    {
     "name": "stdout",
     "output_type": "stream",
     "text": [
      "Simulation complete. Run-time (h): 0.00015019244617886014\n"
     ]
    }
   ],
   "source": [
    "sim = pyrossgeo.Simulation()\n",
    "\n",
    "X_state = sim.initialize(model_path, commuter_networks_path,\n",
    "                            node_parameters_path, cnode_parameters_path,\n",
    "                            contact_matrices_path, node_cmatrices_path, cnode_cmatrices_path,\n",
    "                            node_populations_path)\n",
    "\n",
    "start_time = time.time()\n",
    "dX_state = np.zeros(X_state.size)\n",
    "sim_data = sim.simulate(X_state, t_start, t_end, dt, steps_per_save=1)\n",
    "end_time = time.time()\n",
    "sim_time = (end_time - start_time)/(60*60)\n",
    "print(\"Simulation complete. Run-time (h): %s\" % sim_time)\n",
    "\n",
    "ts, node_data, cnode_data, location_data, community_data, network_data = pyrossgeo.utils.get_simulation_data(sim_data)\n",
    "\n",
    "ts_days = ts / (24*60)\n",
    "ts_hours = ts / 60"
   ]
  },
  {
   "cell_type": "markdown",
   "metadata": {},
   "source": [
    "## Plot data"
   ]
  },
  {
   "cell_type": "code",
   "execution_count": 5,
   "metadata": {},
   "outputs": [
    {
     "data": {
      "text/plain": [
       "<matplotlib.legend.Legend at 0x7fd8f00e7fd0>"
      ]
     },
     "execution_count": 5,
     "metadata": {},
     "output_type": "execute_result"
    },
    {
     "data": {
      "image/png": "[encoded data removed]",
      "text/plain": [
       "<Figure size 576x216 with 1 Axes>"
      ]
     },
     "metadata": {
      "needs_background": "light"
     },
     "output_type": "display_data"
    }
   ],
   "source": [
    "plt.figure( figsize=(8,3) )\n",
    "\n",
    "S = np.sum(network_data[:,:,0], axis=1)\n",
    "E = np.sum(network_data[:,:,1], axis=1)\n",
    "A = np.sum(network_data[:,:,2], axis=1)\n",
    "I = np.sum(network_data[:,:,3], axis=1)\n",
    "R = np.sum(network_data[:,:,4], axis=1)\n",
    "N = S + E + A + I + R\n",
    "\n",
    "plt.plot(ts_days, S, label=\"S\")\n",
    "plt.plot(ts_days, E, label=\"E\")\n",
    "plt.plot(ts_days, A, label=\"A\")\n",
    "plt.plot(ts_days, I, label=\"I\")\n",
    "plt.plot(ts_days, R, label=\"R\")\n",
    "plt.plot(ts_days, N, label=\"N\")\n",
    "\n",
    "plt.legend(loc='upper right', fontsize=12)"
   ]
  }
 ],
 "metadata": {
  "kernelspec": {
   "display_name": "Python 3",
   "language": "python",
   "name": "python3"
  },
  "language_info": {
   "codemirror_mode": {
    "name": "ipython",
    "version": 3
   },
   "file_extension": ".py",
   "mimetype": "text/x-python",
   "name": "python",
   "nbconvert_exporter": "python",
   "pygments_lexer": "ipython3",
   "version": "3.7.4"
  }
 },
 "nbformat": 4,
 "nbformat_minor": 4
}
