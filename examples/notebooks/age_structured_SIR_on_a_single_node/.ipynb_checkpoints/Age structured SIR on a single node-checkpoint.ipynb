{
 "cells": [
  {
   "cell_type": "code",
   "execution_count": 15,
   "metadata": {
    "scrolled": true
   },
   "outputs": [
    {
     "name": "stdout",
     "output_type": "stream",
     "text": [
      "running build_ext\n",
      "copying build/lib.linux-x86_64-3.7/geodemic/_helpers.cpython-37m-x86_64-linux-gnu.so -> geodemic\n",
      "copying build/lib.linux-x86_64-3.7/geodemic/_initialization.cpython-37m-x86_64-linux-gnu.so -> geodemic\n",
      "copying build/lib.linux-x86_64-3.7/geodemic/_simulation.cpython-37m-x86_64-linux-gnu.so -> geodemic\n",
      "copying build/lib.linux-x86_64-3.7/geodemic/_transport_profiles.cpython-37m-x86_64-linux-gnu.so -> geodemic\n",
      "copying build/lib.linux-x86_64-3.7/geodemic/cgeodemic.cpython-37m-x86_64-linux-gnu.so -> geodemic\n"
     ]
    }
   ],
   "source": [
    "# Compile and import local geoSIR module\n",
    "import os, sys\n",
    "owd = os.getcwd()\n",
    "os.chdir('../../')\n",
    "!sh local_setup.sh\n",
    "os.chdir(owd)\n",
    "\n",
    "sys.path.insert(0,'..')\n",
    "sys.path.insert(0,'../..')\n",
    "\n",
    "import numpy as np\n",
    "import matplotlib as mpl\n",
    "import matplotlib.pyplot as plt\n",
    "from sim_utils import *\n",
    "import geodemic\n",
    "\n",
    "import datetime\n",
    "import time"
   ]
  },
  {
   "cell_type": "markdown",
   "metadata": {},
   "source": [
    "Simulation parameters"
   ]
  },
  {
   "cell_type": "code",
   "execution_count": 16,
   "metadata": {},
   "outputs": [],
   "source": [
    "model_path = 'model.json' \n",
    "commuter_networks_path = 'commuter_networks.csv'\n",
    "node_parameters_path = 'node_parameters.csv'\n",
    "cnode_parameters_path = 'cnode_parameters.csv' \n",
    "contact_matrices_path = 'contact_matrices.json' \n",
    "node_cmatrices_path = 'node_cmatrices.csv' \n",
    "cnode_cmatrices_path = 'cnode_cmatrices.csv' \n",
    "node_positions_path = 'node_positions.csv' \n",
    "node_populations_path = 'node_populations.csv' "
   ]
  },
  {
   "cell_type": "markdown",
   "metadata": {},
   "source": [
    "Simulation settings"
   ]
  },
  {
   "cell_type": "code",
   "execution_count": 17,
   "metadata": {},
   "outputs": [],
   "source": [
    "t_start = 0\n",
    "t_end = 24*60*100\n",
    "dt = 1"
   ]
  },
  {
   "cell_type": "markdown",
   "metadata": {},
   "source": [
    "Run simulation"
   ]
  },
  {
   "cell_type": "code",
   "execution_count": 18,
   "metadata": {},
   "outputs": [],
   "source": [
    "t_start = 0\n",
    "t_end = 24*60*100\n",
    "dt = 1\n",
    "\n",
    "_, dts = get_dt_schedule([\n",
    "    (0,  1*60),\n",
    "    (7*60,  1),\n",
    "    (10*60, 2*60),\n",
    "    (17*60, 1),\n",
    "    (19*60, 2*60)\n",
    "], end_time=24*60)"
   ]
  },
  {
   "cell_type": "code",
   "execution_count": 19,
   "metadata": {},
   "outputs": [],
   "source": [
    "sim = geodemic.geodemic()"
   ]
  },
  {
   "cell_type": "code",
   "execution_count": 20,
   "metadata": {},
   "outputs": [
    {
     "name": "stdout",
     "output_type": "stream",
     "text": [
      "Simulation complete. Run-time (h): 5.6302017635769314e-05\n"
     ]
    }
   ],
   "source": [
    "sim = geodemic.geodemic()\n",
    "\n",
    "X_state = sim.initialize(model_path, commuter_networks_path,\n",
    "                            node_parameters_path, cnode_parameters_path,\n",
    "                            contact_matrices_path, node_cmatrices_path, cnode_cmatrices_path,\n",
    "                            node_populations_path)\n",
    "\n",
    "start_time = time.time()\n",
    "dX_state = np.zeros(X_state.size)\n",
    "sim_data = sim.simulate(X_state, t_start, t_end, dts, steps_per_save=1)\n",
    "end_time = time.time()\n",
    "sim_time = (end_time - start_time)/(60*60)\n",
    "print(\"Simulation complete. Run-time (h): %s\" % sim_time)\n",
    "\n",
    "ts, node_data, cnode_data, location_data, community_data, network_data = geodemic.utils.get_simulation_data(sim_data)\n",
    "\n",
    "#ts = ts / (24*60)"
   ]
  },
  {
   "cell_type": "markdown",
   "metadata": {},
   "source": [
    "## Plot data"
   ]
  },
  {
   "cell_type": "code",
   "execution_count": 21,
   "metadata": {
    "scrolled": false
   },
   "outputs": [
    {
     "data": {
      "text/plain": [
       "<matplotlib.legend.Legend at 0x7fc6ace4ca20>"
      ]
     },
     "execution_count": 21,
     "metadata": {},
     "output_type": "execute_result"
    },
    {
     "data": {
      "image/png": "[encoded data removed]",
      "text/plain": [
       "<Figure size 576x216 with 1 Axes>"
      ]
     },
     "metadata": {
      "needs_background": "light"
     },
     "output_type": "display_data"
    }
   ],
   "source": [
    "plt.figure( figsize=(8,3) )\n",
    "\n",
    "S = np.sum(network_data[:,:,0], axis=1)\n",
    "I = np.sum(network_data[:,:,1], axis=1)\n",
    "R = np.sum(network_data[:,:,2], axis=1)\n",
    "N = S + I + R\n",
    "\n",
    "plt.plot(ts, S, label=\"S\")\n",
    "plt.plot(ts, I, label=\"I\")\n",
    "plt.plot(ts, R, label=\"R\")\n",
    "plt.plot(ts, N, label=\"N\")\n",
    "\n",
    "plt.legend(loc='upper right', fontsize=12)"
   ]
  },
  {
   "cell_type": "code",
   "execution_count": null,
   "metadata": {},
   "outputs": [],
   "source": []
  }
 ],
 "metadata": {
  "kernelspec": {
   "display_name": "Python 3",
   "language": "python",
   "name": "python3"
  },
  "language_info": {
   "codemirror_mode": {
    "name": "ipython",
    "version": 3
   },
   "file_extension": ".py",
   "mimetype": "text/x-python",
   "name": "python",
   "nbconvert_exporter": "python",
   "pygments_lexer": "ipython3",
   "version": "3.7.3"
  }
 },
 "nbformat": 4,
 "nbformat_minor": 2
}
