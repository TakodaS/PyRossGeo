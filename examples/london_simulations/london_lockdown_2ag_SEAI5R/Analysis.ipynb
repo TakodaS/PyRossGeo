{
 "cells": [
  {
   "cell_type": "code",
   "execution_count": null,
   "metadata": {},
   "outputs": [],
   "source": [
    "# Compile and import local geoSIR module\n",
    "import os, sys\n",
    "sys.path.insert(0,'../../')\n",
    "import geodemic\n",
    "\n",
    "import numpy as np\n",
    "import matplotlib as mpl\n",
    "import matplotlib.pyplot as plt\n",
    "import pickle, zarr"
   ]
  },
  {
   "cell_type": "code",
   "execution_count": null,
   "metadata": {},
   "outputs": [],
   "source": [
    "node_mappings = pickle.load( open( 'node_mappings.pkl', \"rb\" ) )\n",
    "cnode_mappings = pickle.load( open( 'cnode_mappings.pkl', \"rb\" ) )\n",
    "ts_saved = np.load('ts.npy')\n",
    "X_states = zarr.open('X_states.zarr')[:]\n",
    "\n",
    "ts = np.load('ts.npy')\n",
    "location_data = np.load('location_data.npy')\n",
    "ts_days = ts / (60*24)\n",
    "\n",
    "# Load model\n",
    "\n",
    "model_classes = []\n",
    "\n",
    "import json\n",
    "with open('system_parameters/model.json', 'r') as json_file:\n",
    "    model_dat = json.load(json_file)\n",
    "    model_classes = model_dat['classes']"
   ]
  },
  {
   "cell_type": "code",
   "execution_count": null,
   "metadata": {},
   "outputs": [],
   "source": [
    "network_data = np.sum( location_data, axis=3 )\n",
    "\n",
    "t1 = np.min(ts_days)\n",
    "t2 = np.max(ts_days)\n",
    "s = (ts_days>=t1) * (ts_days<=t2)\n",
    "\n",
    "plot_classes = model_classes\n",
    "for oi, Oclass in zip(range(len(model_classes)), model_classes):\n",
    "    if Oclass in plot_classes:\n",
    "        O = np.sum(network_data[:, :, oi], axis=1)\n",
    "        plt.plot(ts_days[s], O[s], label=Oclass)\n",
    "    \n",
    "plt.legend(loc='upper right', fontsize=12)"
   ]
  },
  {
   "cell_type": "code",
   "execution_count": null,
   "metadata": {},
   "outputs": [],
   "source": [
    "plt.figure( figsize=(8,3) )\n",
    "\n",
    "loc = 504\n",
    "\n",
    "t1 = np.min(ts_days)\n",
    "t2 = 4#np.max(ts_days)\n",
    "s = (ts_days>=t1) * (ts_days<=t2)\n",
    "\n",
    "class_data = []\n",
    "N = np.zeros( location_data.shape[0])\n",
    "for oi, Oclass in zip(range(len(model_classes)), model_classes):\n",
    "    O = np.sum(location_data[:,:,oi,loc], axis=1)\n",
    "    N += O\n",
    "    class_data.append(O)\n",
    "    \n",
    "plot_classes = model_classes\n",
    "for Oclass in plot_classes:\n",
    "    O = class_data[model_classes.index(Oclass)]\n",
    "    plt.plot(ts_days[s], O[s], label=Oclass)\n",
    "    \n",
    "#plt.plot(ts_days[s], N[s], label=\"$N$\")\n",
    "\n",
    "plt.legend(loc='upper right', fontsize=12)"
   ]
  }
 ],
 "metadata": {
  "kernelspec": {
   "display_name": "Python 3",
   "language": "python",
   "name": "python3"
  },
  "language_info": {
   "codemirror_mode": {
    "name": "ipython",
    "version": 3
   },
   "file_extension": ".py",
   "mimetype": "text/x-python",
   "name": "python",
   "nbconvert_exporter": "python",
   "pygments_lexer": "ipython3",
   "version": "3.7.3"
  }
 },
 "nbformat": 4,
 "nbformat_minor": 4
}
