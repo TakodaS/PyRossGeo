{
 "cells": [
  {
   "cell_type": "code",
   "execution_count": 2,
   "metadata": {},
   "outputs": [
    {
     "name": "stdout",
     "output_type": "stream",
     "text": [
      "Compiling pyrossgeo/Simulation.pyx because it changed.\n",
      "Compiling pyrossgeo/__defs__.pyx because it changed.\n",
      "Compiling pyrossgeo/_helpers.pyx because it changed.\n",
      "Compiling pyrossgeo/_initialization.pyx because it changed.\n",
      "Compiling pyrossgeo/_simulation.pyx because it changed.\n",
      "[1/5] Cythonizing pyrossgeo/Simulation.pyx\n",
      "[2/5] Cythonizing pyrossgeo/__defs__.pyx\n",
      "[3/5] Cythonizing pyrossgeo/_helpers.pyx\n",
      "[4/5] Cythonizing pyrossgeo/_initialization.pyx\n",
      "[5/5] Cythonizing pyrossgeo/_simulation.pyx\n",
      "running build_ext\n",
      "building 'pyrossgeo.Simulation' extension\n",
      "creating build\n",
      "creating build/temp.linux-x86_64-3.7\n",
      "creating build/temp.linux-x86_64-3.7/pyrossgeo\n",
      "gcc -pthread -B /home/lukas/anaconda3/compiler_compat -Wl,--sysroot=/ -Wsign-compare -DNDEBUG -g -fwrapv -O3 -Wall -Wstrict-prototypes -fPIC -I/home/lukas/anaconda3/include/python3.7m -c pyrossgeo/Simulation.c -o build/temp.linux-x86_64-3.7/pyrossgeo/Simulation.o\n",
      "In file included from \u001b[01m\u001b[K/usr/include/numpy/ndarraytypes.h:1809:0\u001b[m\u001b[K,\n",
      "                 from \u001b[01m\u001b[K/usr/include/numpy/ndarrayobject.h:18\u001b[m\u001b[K,\n",
      "                 from \u001b[01m\u001b[K/usr/include/numpy/arrayobject.h:4\u001b[m\u001b[K,\n",
      "                 from \u001b[01m\u001b[Kpyrossgeo/Simulation.c:611\u001b[m\u001b[K:\n",
      "\u001b[01m\u001b[K/usr/include/numpy/npy_1_7_deprecated_api.h:15:2:\u001b[m\u001b[K \u001b[01;35m\u001b[Kwarning: \u001b[m\u001b[K#warning \"Using deprecated NumPy API, disable it by \" \"#defining NPY_NO_DEPRECATED_API NPY_1_7_API_VERSION\" [\u001b[01;35m\u001b[K-Wcpp\u001b[m\u001b[K]\n",
      " #\u001b[01;35m\u001b[Kwarning\u001b[m\u001b[K \"Using deprecated NumPy API, disable it by \" \\\n",
      "  \u001b[01;35m\u001b[K^~~~~~~\u001b[m\u001b[K\n",
      "creating build/lib.linux-x86_64-3.7\n",
      "creating build/lib.linux-x86_64-3.7/pyrossgeo\n",
      "gcc -pthread -shared -B /home/lukas/anaconda3/compiler_compat -L/home/lukas/anaconda3/lib -Wl,-rpath=/home/lukas/anaconda3/lib -Wl,--no-as-needed -Wl,--sysroot=/ build/temp.linux-x86_64-3.7/pyrossgeo/Simulation.o -o build/lib.linux-x86_64-3.7/pyrossgeo/Simulation.cpython-37m-x86_64-linux-gnu.so\n",
      "building 'pyrossgeo.__defs__' extension\n",
      "gcc -pthread -B /home/lukas/anaconda3/compiler_compat -Wl,--sysroot=/ -Wsign-compare -DNDEBUG -g -fwrapv -O3 -Wall -Wstrict-prototypes -fPIC -I/home/lukas/anaconda3/include/python3.7m -c pyrossgeo/__defs__.c -o build/temp.linux-x86_64-3.7/pyrossgeo/__defs__.o\n",
      "In file included from \u001b[01m\u001b[K/usr/include/numpy/ndarraytypes.h:1809:0\u001b[m\u001b[K,\n",
      "                 from \u001b[01m\u001b[K/usr/include/numpy/ndarrayobject.h:18\u001b[m\u001b[K,\n",
      "                 from \u001b[01m\u001b[K/usr/include/numpy/arrayobject.h:4\u001b[m\u001b[K,\n",
      "                 from \u001b[01m\u001b[Kpyrossgeo/__defs__.c:611\u001b[m\u001b[K:\n",
      "\u001b[01m\u001b[K/usr/include/numpy/npy_1_7_deprecated_api.h:15:2:\u001b[m\u001b[K \u001b[01;35m\u001b[Kwarning: \u001b[m\u001b[K#warning \"Using deprecated NumPy API, disable it by \" \"#defining NPY_NO_DEPRECATED_API NPY_1_7_API_VERSION\" [\u001b[01;35m\u001b[K-Wcpp\u001b[m\u001b[K]\n",
      " #\u001b[01;35m\u001b[Kwarning\u001b[m\u001b[K \"Using deprecated NumPy API, disable it by \" \\\n",
      "  \u001b[01;35m\u001b[K^~~~~~~\u001b[m\u001b[K\n",
      "gcc -pthread -shared -B /home/lukas/anaconda3/compiler_compat -L/home/lukas/anaconda3/lib -Wl,-rpath=/home/lukas/anaconda3/lib -Wl,--no-as-needed -Wl,--sysroot=/ build/temp.linux-x86_64-3.7/pyrossgeo/__defs__.o -o build/lib.linux-x86_64-3.7/pyrossgeo/__defs__.cpython-37m-x86_64-linux-gnu.so\n",
      "building 'pyrossgeo._helpers' extension\n",
      "gcc -pthread -B /home/lukas/anaconda3/compiler_compat -Wl,--sysroot=/ -Wsign-compare -DNDEBUG -g -fwrapv -O3 -Wall -Wstrict-prototypes -fPIC -I/home/lukas/anaconda3/include/python3.7m -c pyrossgeo/_helpers.c -o build/temp.linux-x86_64-3.7/pyrossgeo/_helpers.o\n",
      "In file included from \u001b[01m\u001b[K/usr/include/numpy/ndarraytypes.h:1809:0\u001b[m\u001b[K,\n",
      "                 from \u001b[01m\u001b[K/usr/include/numpy/ndarrayobject.h:18\u001b[m\u001b[K,\n",
      "                 from \u001b[01m\u001b[K/usr/include/numpy/arrayobject.h:4\u001b[m\u001b[K,\n",
      "                 from \u001b[01m\u001b[Kpyrossgeo/_helpers.c:612\u001b[m\u001b[K:\n",
      "\u001b[01m\u001b[K/usr/include/numpy/npy_1_7_deprecated_api.h:15:2:\u001b[m\u001b[K \u001b[01;35m\u001b[Kwarning: \u001b[m\u001b[K#warning \"Using deprecated NumPy API, disable it by \" \"#defining NPY_NO_DEPRECATED_API NPY_1_7_API_VERSION\" [\u001b[01;35m\u001b[K-Wcpp\u001b[m\u001b[K]\n",
      " #\u001b[01;35m\u001b[Kwarning\u001b[m\u001b[K \"Using deprecated NumPy API, disable it by \" \\\n",
      "  \u001b[01;35m\u001b[K^~~~~~~\u001b[m\u001b[K\n",
      "gcc -pthread -shared -B /home/lukas/anaconda3/compiler_compat -L/home/lukas/anaconda3/lib -Wl,-rpath=/home/lukas/anaconda3/lib -Wl,--no-as-needed -Wl,--sysroot=/ build/temp.linux-x86_64-3.7/pyrossgeo/_helpers.o -o build/lib.linux-x86_64-3.7/pyrossgeo/_helpers.cpython-37m-x86_64-linux-gnu.so\n",
      "building 'pyrossgeo._initialization' extension\n",
      "gcc -pthread -B /home/lukas/anaconda3/compiler_compat -Wl,--sysroot=/ -Wsign-compare -DNDEBUG -g -fwrapv -O3 -Wall -Wstrict-prototypes -fPIC -I/home/lukas/anaconda3/include/python3.7m -c pyrossgeo/_initialization.c -o build/temp.linux-x86_64-3.7/pyrossgeo/_initialization.o\n",
      "In file included from \u001b[01m\u001b[K/usr/include/numpy/ndarraytypes.h:1809:0\u001b[m\u001b[K,\n",
      "                 from \u001b[01m\u001b[K/usr/include/numpy/ndarrayobject.h:18\u001b[m\u001b[K,\n",
      "                 from \u001b[01m\u001b[K/usr/include/numpy/arrayobject.h:4\u001b[m\u001b[K,\n",
      "                 from \u001b[01m\u001b[Kpyrossgeo/_initialization.c:612\u001b[m\u001b[K:\n",
      "\u001b[01m\u001b[K/usr/include/numpy/npy_1_7_deprecated_api.h:15:2:\u001b[m\u001b[K \u001b[01;35m\u001b[Kwarning: \u001b[m\u001b[K#warning \"Using deprecated NumPy API, disable it by \" \"#defining NPY_NO_DEPRECATED_API NPY_1_7_API_VERSION\" [\u001b[01;35m\u001b[K-Wcpp\u001b[m\u001b[K]\n",
      " #\u001b[01;35m\u001b[Kwarning\u001b[m\u001b[K \"Using deprecated NumPy API, disable it by \" \\\n",
      "  \u001b[01;35m\u001b[K^~~~~~~\u001b[m\u001b[K\n",
      "gcc -pthread -shared -B /home/lukas/anaconda3/compiler_compat -L/home/lukas/anaconda3/lib -Wl,-rpath=/home/lukas/anaconda3/lib -Wl,--no-as-needed -Wl,--sysroot=/ build/temp.linux-x86_64-3.7/pyrossgeo/_initialization.o -o build/lib.linux-x86_64-3.7/pyrossgeo/_initialization.cpython-37m-x86_64-linux-gnu.so\n",
      "building 'pyrossgeo._simulation' extension\n",
      "gcc -pthread -B /home/lukas/anaconda3/compiler_compat -Wl,--sysroot=/ -Wsign-compare -DNDEBUG -g -fwrapv -O3 -Wall -Wstrict-prototypes -fPIC -I/home/lukas/anaconda3/include/python3.7m -c pyrossgeo/_simulation.c -o build/temp.linux-x86_64-3.7/pyrossgeo/_simulation.o\n",
      "In file included from \u001b[01m\u001b[K/usr/include/numpy/ndarraytypes.h:1809:0\u001b[m\u001b[K,\n",
      "                 from \u001b[01m\u001b[K/usr/include/numpy/ndarrayobject.h:18\u001b[m\u001b[K,\n",
      "                 from \u001b[01m\u001b[K/usr/include/numpy/arrayobject.h:4\u001b[m\u001b[K,\n",
      "                 from \u001b[01m\u001b[Kpyrossgeo/_simulation.c:611\u001b[m\u001b[K:\n",
      "\u001b[01m\u001b[K/usr/include/numpy/npy_1_7_deprecated_api.h:15:2:\u001b[m\u001b[K \u001b[01;35m\u001b[Kwarning: \u001b[m\u001b[K#warning \"Using deprecated NumPy API, disable it by \" \"#defining NPY_NO_DEPRECATED_API NPY_1_7_API_VERSION\" [\u001b[01;35m\u001b[K-Wcpp\u001b[m\u001b[K]\n",
      " #\u001b[01;35m\u001b[Kwarning\u001b[m\u001b[K \"Using deprecated NumPy API, disable it by \" \\\n",
      "  \u001b[01;35m\u001b[K^~~~~~~\u001b[m\u001b[K\n",
      "\u001b[01m\u001b[Kpyrossgeo/_simulation.c:\u001b[m\u001b[K In function ‘\u001b[01m\u001b[K__pyx_f_9pyrossgeo_11_simulation_simulate\u001b[m\u001b[K’:\n",
      "\u001b[01m\u001b[Kpyrossgeo/_simulation.c:5718:210:\u001b[m\u001b[K \u001b[01;35m\u001b[Kwarning: \u001b[m\u001b[K‘\u001b[01m\u001b[K__pyx_v_Ti\u001b[m\u001b[K’ may be used uninitialized in this function [\u001b[01;35m\u001b[K-Wmaybe-uninitialized\u001b[m\u001b[K]\n",
      " rofile_c_r)) * __pyx_v_transport_profile_integrated_r) * (__pyx_v_Ts\u001b[01;35m\u001b[K[\u001b[m\u001b[K__pyx_v_Ti]).r_T_Delta_t);\n",
      "                                                                     \u001b[01;35m\u001b[K^\u001b[m\u001b[K\n",
      "\u001b[01m\u001b[Kpyrossgeo/_simulation.c:6147:22:\u001b[m\u001b[K \u001b[01;35m\u001b[Kwarning: \u001b[m\u001b[K‘\u001b[01m\u001b[K__pyx_v_X_states_saved_col_num\u001b[m\u001b[K’ may be used uninitialized in this function [\u001b[01;35m\u001b[K-Wmaybe-uninitialized\u001b[m\u001b[K]\n",
      "         __pyx_t_25 = \u001b[01;35m\u001b[K__Pyx_PyObject_GetSlice(((PyObject *)__pyx_v_X_state_arr), 0, __pyx_v_X_states_saved_col_num, NULL, NULL, NULL, 0, 1, 0)\u001b[m\u001b[K; if (unlikely(!__pyx_t_25)) __PYX_ERR(0, 436, __pyx_L1_error)\n",
      "                      \u001b[01;35m\u001b[K^~~~~~~~~~~~~~~~~~~~~~~~~~~~~~~~~~~~~~~~~~~~~~~~~~~~~~~~~~~~~~~~~~~~~~~~~~~~~~~~~~~~~~~~~~~~~~~~~~~~~~~~~~~~~~~~~~~~~~~~\u001b[m\u001b[K\n",
      "gcc -pthread -shared -B /home/lukas/anaconda3/compiler_compat -L/home/lukas/anaconda3/lib -Wl,-rpath=/home/lukas/anaconda3/lib -Wl,--no-as-needed -Wl,--sysroot=/ build/temp.linux-x86_64-3.7/pyrossgeo/_simulation.o -o build/lib.linux-x86_64-3.7/pyrossgeo/_simulation.cpython-37m-x86_64-linux-gnu.so\n",
      "copying build/lib.linux-x86_64-3.7/pyrossgeo/Simulation.cpython-37m-x86_64-linux-gnu.so -> pyrossgeo\n",
      "copying build/lib.linux-x86_64-3.7/pyrossgeo/__defs__.cpython-37m-x86_64-linux-gnu.so -> pyrossgeo\n",
      "copying build/lib.linux-x86_64-3.7/pyrossgeo/_helpers.cpython-37m-x86_64-linux-gnu.so -> pyrossgeo\n",
      "copying build/lib.linux-x86_64-3.7/pyrossgeo/_initialization.cpython-37m-x86_64-linux-gnu.so -> pyrossgeo\n",
      "copying build/lib.linux-x86_64-3.7/pyrossgeo/_simulation.cpython-37m-x86_64-linux-gnu.so -> pyrossgeo\n"
     ]
    }
   ],
   "source": [
    "# Compile and import local pyrossgeo module\n",
    "import os, sys\n",
    "owd = os.getcwd()\n",
    "os.chdir('../../../')\n",
    "sys.path.insert(0,'../../../')\n",
    "!sh local_setup.sh\n",
    "os.chdir(owd)\n",
    "\n",
    "import numpy as np\n",
    "import matplotlib as mpl\n",
    "import matplotlib.pyplot as plt\n",
    "import pyrossgeo\n",
    "\n",
    "import datetime\n",
    "import time"
   ]
  },
  {
   "cell_type": "markdown",
   "metadata": {},
   "source": [
    "Simulation parameters"
   ]
  },
  {
   "cell_type": "code",
   "execution_count": 5,
   "metadata": {},
   "outputs": [],
   "source": [
    "model_path = 'model.json' \n",
    "commuter_networks_path = 'commuter_networks.csv'\n",
    "node_parameters_path = 'node_parameters.csv'\n",
    "cnode_parameters_path = 'cnode_parameters.csv' \n",
    "contact_matrices_path = 'contact_matrices.json' \n",
    "node_cmatrices_path = 'node_cmatrices.csv' \n",
    "cnode_cmatrices_path = 'cnode_cmatrices.csv' \n",
    "node_positions_path = 'node_positions.csv' \n",
    "node_populations_path = 'node_populations.csv' "
   ]
  },
  {
   "cell_type": "markdown",
   "metadata": {},
   "source": [
    "Simulation settings"
   ]
  },
  {
   "cell_type": "code",
   "execution_count": 6,
   "metadata": {},
   "outputs": [
    {
     "ename": "AttributeError",
     "evalue": "module 'pyrossgeo' has no attribute 'utils'",
     "output_type": "error",
     "traceback": [
      "\u001b[0;31m---------------------------------------------------------------------------\u001b[0m",
      "\u001b[0;31mAttributeError\u001b[0m                            Traceback (most recent call last)",
      "\u001b[0;32m<ipython-input-6-d2125d89fe1c>\u001b[0m in \u001b[0;36m<module>\u001b[0;34m\u001b[0m\n\u001b[1;32m      3\u001b[0m \u001b[0mdt\u001b[0m \u001b[0;34m=\u001b[0m \u001b[0;36m1\u001b[0m\u001b[0;34m\u001b[0m\u001b[0;34m\u001b[0m\u001b[0m\n\u001b[1;32m      4\u001b[0m \u001b[0;34m\u001b[0m\u001b[0m\n\u001b[0;32m----> 5\u001b[0;31m _, dts = pyrossgeo.utils.get_dt_schedule([\n\u001b[0m\u001b[1;32m      6\u001b[0m     \u001b[0;34m(\u001b[0m\u001b[0;36m0\u001b[0m\u001b[0;34m,\u001b[0m  \u001b[0;36m1\u001b[0m\u001b[0;34m*\u001b[0m\u001b[0;36m60\u001b[0m\u001b[0;34m)\u001b[0m\u001b[0;34m,\u001b[0m\u001b[0;34m\u001b[0m\u001b[0;34m\u001b[0m\u001b[0m\n\u001b[1;32m      7\u001b[0m     \u001b[0;34m(\u001b[0m\u001b[0;36m7\u001b[0m\u001b[0;34m*\u001b[0m\u001b[0;36m60\u001b[0m\u001b[0;34m,\u001b[0m  \u001b[0;36m1\u001b[0m\u001b[0;34m)\u001b[0m\u001b[0;34m,\u001b[0m\u001b[0;34m\u001b[0m\u001b[0;34m\u001b[0m\u001b[0m\n",
      "\u001b[0;31mAttributeError\u001b[0m: module 'pyrossgeo' has no attribute 'utils'"
     ]
    }
   ],
   "source": [
    "t_start = 0\n",
    "t_end = 24*60*200\n",
    "dt = 1\n",
    "\n",
    "_, dts = pyrossgeo.utils.get_dt_schedule([\n",
    "    (0,  1*60),\n",
    "    (7*60,  1),\n",
    "    (10*60, 2*60),\n",
    "    (17*60, 1),\n",
    "    (19*60, 2*60)\n",
    "], end_time=24*60)"
   ]
  },
  {
   "cell_type": "markdown",
   "metadata": {},
   "source": [
    "Run simulation"
   ]
  },
  {
   "cell_type": "code",
   "execution_count": null,
   "metadata": {},
   "outputs": [],
   "source": [
    "sim = pyrossgeo.Simulation()\n",
    "\n",
    "X_state = sim.initialize(model_path, commuter_networks_path,\n",
    "                            node_parameters_path, cnode_parameters_path,\n",
    "                            contact_matrices_path, node_cmatrices_path, cnode_cmatrices_path,\n",
    "                            node_populations_path)\n",
    "\n",
    "start_time = time.time()\n",
    "dX_state = np.zeros(X_state.size)\n",
    "sim_data = sim.simulate(X_state, t_start, t_end, dt, steps_per_save=1)\n",
    "end_time = time.time()\n",
    "sim_time = (end_time - start_time)/(60*60)\n",
    "print(\"Simulation complete. Run-time (h): %s\" % sim_time)\n",
    "\n",
    "ts, node_data, cnode_data, location_data, community_data, network_data = pyrossgeo.commuting.utils.get_simulation_data(sim_data)\n",
    "\n",
    "ts_days = ts / (24*60)\n",
    "ts_hours = ts / 60"
   ]
  },
  {
   "cell_type": "markdown",
   "metadata": {},
   "source": [
    "## Plot data"
   ]
  },
  {
   "cell_type": "code",
   "execution_count": null,
   "metadata": {},
   "outputs": [],
   "source": [
    "plt.figure( figsize=(12,5) )\n",
    "\n",
    "S = np.sum(network_data[:,:,0], axis=1)\n",
    "E = np.sum(network_data[:,:,1], axis=1)\n",
    "A = np.sum(network_data[:,:,2], axis=1)\n",
    "Ia = np.sum(network_data[:,:,3], axis=1)\n",
    "Is = np.sum(network_data[:,:,4], axis=1)\n",
    "Ih = np.sum(network_data[:,:,5], axis=1)\n",
    "Ic = np.sum(network_data[:,:,6], axis=1)\n",
    "Im = np.sum(network_data[:,:,7], axis=1)\n",
    "R = np.sum(network_data[:,:,8], axis=1)\n",
    "\n",
    "plt.plot(ts_days, S, label=\"S\")\n",
    "plt.plot(ts_days, E, label=\"E\")\n",
    "plt.plot(ts_days, A, label=\"A\")\n",
    "plt.plot(ts_days, Ia, label=\"Ia\")\n",
    "plt.plot(ts_days, Is, label=\"Is\")\n",
    "plt.plot(ts_days, Ih, label=\"Ih\")\n",
    "plt.plot(ts_days, Ic, label=\"Ic\")\n",
    "plt.plot(ts_days, Im, label=\"Im\")\n",
    "plt.plot(ts_days, R, label=\"R\")\n",
    "\n",
    "plt.legend(loc='upper right', fontsize=12)"
   ]
  }
 ],
 "metadata": {
  "kernelspec": {
   "display_name": "Python 3",
   "language": "python",
   "name": "python3"
  },
  "language_info": {
   "codemirror_mode": {
    "name": "ipython",
    "version": 3
   },
   "file_extension": ".py",
   "mimetype": "text/x-python",
   "name": "python",
   "nbconvert_exporter": "python",
   "pygments_lexer": "ipython3",
   "version": "3.7.4"
  }
 },
 "nbformat": 4,
 "nbformat_minor": 4
}
