{
 "cells": [
  {
   "cell_type": "code",
   "execution_count": 1,
   "metadata": {
    "scrolled": true
   },
   "outputs": [
    {
     "name": "stdout",
     "output_type": "stream",
     "text": [
      "running build_ext\n",
      "building 'geodemic._helpers' extension\n",
      "gcc -pthread -B /store/SOFT/ltk26/anaconda3/compiler_compat -Wl,--sysroot=/ -Wsign-compare -DNDEBUG -g -fwrapv -O3 -Wall -Wstrict-prototypes -fPIC -I/store/SOFT/ltk26/anaconda3/include/python3.7m -c geodemic/_helpers.c -o build/temp.linux-x86_64-3.7/geodemic/_helpers.o\n",
      "In file included from \u001b[01m\u001b[K/usr/include/numpy/ndarraytypes.h:1777:0\u001b[m\u001b[K,\n",
      "                 from \u001b[01m\u001b[K/usr/include/numpy/ndarrayobject.h:18\u001b[m\u001b[K,\n",
      "                 from \u001b[01m\u001b[K/usr/include/numpy/arrayobject.h:4\u001b[m\u001b[K,\n",
      "                 from \u001b[01m\u001b[Kgeodemic/_helpers.c:611\u001b[m\u001b[K:\n",
      "\u001b[01m\u001b[K/usr/include/numpy/npy_1_7_deprecated_api.h:15:2:\u001b[m\u001b[K \u001b[01;35m\u001b[Kwarning: \u001b[m\u001b[K#warning \"Using deprecated NumPy API, disable it by \" \"#defining NPY_NO_DEPRECATED_API NPY_1_7_API_VERSION\" [-Wcpp]\n",
      " #warning \"Using deprecated NumPy API, disable it by \" \\\n",
      "\u001b[01;32m\u001b[K  ^\u001b[m\u001b[K\n",
      "gcc -pthread -shared -B /store/SOFT/ltk26/anaconda3/compiler_compat -L/store/SOFT/ltk26/anaconda3/lib -Wl,-rpath=/store/SOFT/ltk26/anaconda3/lib -Wl,--no-as-needed -Wl,--sysroot=/ build/temp.linux-x86_64-3.7/geodemic/_helpers.o -o build/lib.linux-x86_64-3.7/geodemic/_helpers.cpython-37m-x86_64-linux-gnu.so\n",
      "building 'geodemic._initialization' extension\n",
      "gcc -pthread -B /store/SOFT/ltk26/anaconda3/compiler_compat -Wl,--sysroot=/ -Wsign-compare -DNDEBUG -g -fwrapv -O3 -Wall -Wstrict-prototypes -fPIC -I/store/SOFT/ltk26/anaconda3/include/python3.7m -c geodemic/_initialization.c -o build/temp.linux-x86_64-3.7/geodemic/_initialization.o\n",
      "In file included from \u001b[01m\u001b[K/usr/include/numpy/ndarraytypes.h:1777:0\u001b[m\u001b[K,\n",
      "                 from \u001b[01m\u001b[K/usr/include/numpy/ndarrayobject.h:18\u001b[m\u001b[K,\n",
      "                 from \u001b[01m\u001b[K/usr/include/numpy/arrayobject.h:4\u001b[m\u001b[K,\n",
      "                 from \u001b[01m\u001b[Kgeodemic/_initialization.c:611\u001b[m\u001b[K:\n",
      "\u001b[01m\u001b[K/usr/include/numpy/npy_1_7_deprecated_api.h:15:2:\u001b[m\u001b[K \u001b[01;35m\u001b[Kwarning: \u001b[m\u001b[K#warning \"Using deprecated NumPy API, disable it by \" \"#defining NPY_NO_DEPRECATED_API NPY_1_7_API_VERSION\" [-Wcpp]\n",
      " #warning \"Using deprecated NumPy API, disable it by \" \\\n",
      "\u001b[01;32m\u001b[K  ^\u001b[m\u001b[K\n",
      "gcc -pthread -shared -B /store/SOFT/ltk26/anaconda3/compiler_compat -L/store/SOFT/ltk26/anaconda3/lib -Wl,-rpath=/store/SOFT/ltk26/anaconda3/lib -Wl,--no-as-needed -Wl,--sysroot=/ build/temp.linux-x86_64-3.7/geodemic/_initialization.o -o build/lib.linux-x86_64-3.7/geodemic/_initialization.cpython-37m-x86_64-linux-gnu.so\n",
      "building 'geodemic._simulation' extension\n",
      "gcc -pthread -B /store/SOFT/ltk26/anaconda3/compiler_compat -Wl,--sysroot=/ -Wsign-compare -DNDEBUG -g -fwrapv -O3 -Wall -Wstrict-prototypes -fPIC -I/store/SOFT/ltk26/anaconda3/include/python3.7m -c geodemic/_simulation.c -o build/temp.linux-x86_64-3.7/geodemic/_simulation.o\n",
      "In file included from \u001b[01m\u001b[K/usr/include/numpy/ndarraytypes.h:1777:0\u001b[m\u001b[K,\n",
      "                 from \u001b[01m\u001b[K/usr/include/numpy/ndarrayobject.h:18\u001b[m\u001b[K,\n",
      "                 from \u001b[01m\u001b[K/usr/include/numpy/arrayobject.h:4\u001b[m\u001b[K,\n",
      "                 from \u001b[01m\u001b[Kgeodemic/_simulation.c:611\u001b[m\u001b[K:\n",
      "\u001b[01m\u001b[K/usr/include/numpy/npy_1_7_deprecated_api.h:15:2:\u001b[m\u001b[K \u001b[01;35m\u001b[Kwarning: \u001b[m\u001b[K#warning \"Using deprecated NumPy API, disable it by \" \"#defining NPY_NO_DEPRECATED_API NPY_1_7_API_VERSION\" [-Wcpp]\n",
      " #warning \"Using deprecated NumPy API, disable it by \" \\\n",
      "\u001b[01;32m\u001b[K  ^\u001b[m\u001b[K\n",
      "\u001b[01m\u001b[Kgeodemic/_simulation.c:\u001b[m\u001b[K In function ‘\u001b[01m\u001b[K__pyx_f_8geodemic_11_simulation_csimulate\u001b[m\u001b[K’:\n",
      "\u001b[01m\u001b[Kgeodemic/_simulation.c:6031:210:\u001b[m\u001b[K \u001b[01;35m\u001b[Kwarning: \u001b[m\u001b[K‘\u001b[01m\u001b[K__pyx_v_Ti\u001b[m\u001b[K’ may be used uninitialized in this function [-Wmaybe-uninitialized]\n",
      " rofile_c_r)) * __pyx_v_transport_profile_integrated_r) * (__pyx_v_Ts[__pyx_v_Ti\n",
      "\u001b[01;32m\u001b[K                                                                     ^\u001b[m\u001b[K\n",
      "gcc -pthread -shared -B /store/SOFT/ltk26/anaconda3/compiler_compat -L/store/SOFT/ltk26/anaconda3/lib -Wl,-rpath=/store/SOFT/ltk26/anaconda3/lib -Wl,--no-as-needed -Wl,--sysroot=/ build/temp.linux-x86_64-3.7/geodemic/_simulation.o -o build/lib.linux-x86_64-3.7/geodemic/_simulation.cpython-37m-x86_64-linux-gnu.so\n",
      "building 'geodemic._transport_profiles' extension\n",
      "gcc -pthread -B /store/SOFT/ltk26/anaconda3/compiler_compat -Wl,--sysroot=/ -Wsign-compare -DNDEBUG -g -fwrapv -O3 -Wall -Wstrict-prototypes -fPIC -I/store/SOFT/ltk26/anaconda3/include/python3.7m -c geodemic/_transport_profiles.c -o build/temp.linux-x86_64-3.7/geodemic/_transport_profiles.o\n",
      "In file included from \u001b[01m\u001b[K/usr/include/numpy/ndarraytypes.h:1777:0\u001b[m\u001b[K,\n",
      "                 from \u001b[01m\u001b[K/usr/include/numpy/ndarrayobject.h:18\u001b[m\u001b[K,\n",
      "                 from \u001b[01m\u001b[K/usr/include/numpy/arrayobject.h:4\u001b[m\u001b[K,\n",
      "                 from \u001b[01m\u001b[Kgeodemic/_transport_profiles.c:611\u001b[m\u001b[K:\n",
      "\u001b[01m\u001b[K/usr/include/numpy/npy_1_7_deprecated_api.h:15:2:\u001b[m\u001b[K \u001b[01;35m\u001b[Kwarning: \u001b[m\u001b[K#warning \"Using deprecated NumPy API, disable it by \" \"#defining NPY_NO_DEPRECATED_API NPY_1_7_API_VERSION\" [-Wcpp]\n",
      " #warning \"Using deprecated NumPy API, disable it by \" \\\n",
      "\u001b[01;32m\u001b[K  ^\u001b[m\u001b[K\n",
      "gcc -pthread -shared -B /store/SOFT/ltk26/anaconda3/compiler_compat -L/store/SOFT/ltk26/anaconda3/lib -Wl,-rpath=/store/SOFT/ltk26/anaconda3/lib -Wl,--no-as-needed -Wl,--sysroot=/ build/temp.linux-x86_64-3.7/geodemic/_transport_profiles.o -o build/lib.linux-x86_64-3.7/geodemic/_transport_profiles.cpython-37m-x86_64-linux-gnu.so\n",
      "building 'geodemic.cgeodemic' extension\n",
      "gcc -pthread -B /store/SOFT/ltk26/anaconda3/compiler_compat -Wl,--sysroot=/ -Wsign-compare -DNDEBUG -g -fwrapv -O3 -Wall -Wstrict-prototypes -fPIC -I/store/SOFT/ltk26/anaconda3/include/python3.7m -c geodemic/cgeodemic.c -o build/temp.linux-x86_64-3.7/geodemic/cgeodemic.o\n",
      "In file included from \u001b[01m\u001b[K/usr/include/numpy/ndarraytypes.h:1777:0\u001b[m\u001b[K,\n",
      "                 from \u001b[01m\u001b[K/usr/include/numpy/ndarrayobject.h:18\u001b[m\u001b[K,\n",
      "                 from \u001b[01m\u001b[K/usr/include/numpy/arrayobject.h:4\u001b[m\u001b[K,\n",
      "                 from \u001b[01m\u001b[Kgeodemic/cgeodemic.c:611\u001b[m\u001b[K:\n",
      "\u001b[01m\u001b[K/usr/include/numpy/npy_1_7_deprecated_api.h:15:2:\u001b[m\u001b[K \u001b[01;35m\u001b[Kwarning: \u001b[m\u001b[K#warning \"Using deprecated NumPy API, disable it by \" \"#defining NPY_NO_DEPRECATED_API NPY_1_7_API_VERSION\" [-Wcpp]\n",
      " #warning \"Using deprecated NumPy API, disable it by \" \\\n",
      "\u001b[01;32m\u001b[K  ^\u001b[m\u001b[K\n",
      "gcc -pthread -shared -B /store/SOFT/ltk26/anaconda3/compiler_compat -L/store/SOFT/ltk26/anaconda3/lib -Wl,-rpath=/store/SOFT/ltk26/anaconda3/lib -Wl,--no-as-needed -Wl,--sysroot=/ build/temp.linux-x86_64-3.7/geodemic/cgeodemic.o -o build/lib.linux-x86_64-3.7/geodemic/cgeodemic.cpython-37m-x86_64-linux-gnu.so\n",
      "building 'geodemic.simulation' extension\n",
      "gcc -pthread -B /store/SOFT/ltk26/anaconda3/compiler_compat -Wl,--sysroot=/ -Wsign-compare -DNDEBUG -g -fwrapv -O3 -Wall -Wstrict-prototypes -fPIC -I/store/SOFT/ltk26/anaconda3/include/python3.7m -c geodemic/simulation.c -o build/temp.linux-x86_64-3.7/geodemic/simulation.o\n",
      "In file included from \u001b[01m\u001b[K/usr/include/numpy/ndarraytypes.h:1777:0\u001b[m\u001b[K,\n",
      "                 from \u001b[01m\u001b[K/usr/include/numpy/ndarrayobject.h:18\u001b[m\u001b[K,\n",
      "                 from \u001b[01m\u001b[K/usr/include/numpy/arrayobject.h:4\u001b[m\u001b[K,\n",
      "                 from \u001b[01m\u001b[Kgeodemic/simulation.c:611\u001b[m\u001b[K:\n",
      "\u001b[01m\u001b[K/usr/include/numpy/npy_1_7_deprecated_api.h:15:2:\u001b[m\u001b[K \u001b[01;35m\u001b[Kwarning: \u001b[m\u001b[K#warning \"Using deprecated NumPy API, disable it by \" \"#defining NPY_NO_DEPRECATED_API NPY_1_7_API_VERSION\" [-Wcpp]\n",
      " #warning \"Using deprecated NumPy API, disable it by \" \\\n",
      "\u001b[01;32m\u001b[K  ^\u001b[m\u001b[K\n",
      "gcc -pthread -shared -B /store/SOFT/ltk26/anaconda3/compiler_compat -L/store/SOFT/ltk26/anaconda3/lib -Wl,-rpath=/store/SOFT/ltk26/anaconda3/lib -Wl,--no-as-needed -Wl,--sysroot=/ build/temp.linux-x86_64-3.7/geodemic/simulation.o -o build/lib.linux-x86_64-3.7/geodemic/simulation.cpython-37m-x86_64-linux-gnu.so\n",
      "copying build/lib.linux-x86_64-3.7/geodemic/__init__.cpython-37m-x86_64-linux-gnu.so -> geodemic\n",
      "copying build/lib.linux-x86_64-3.7/geodemic/_helpers.cpython-37m-x86_64-linux-gnu.so -> geodemic\n",
      "copying build/lib.linux-x86_64-3.7/geodemic/_initialization.cpython-37m-x86_64-linux-gnu.so -> geodemic\n",
      "copying build/lib.linux-x86_64-3.7/geodemic/_simulation.cpython-37m-x86_64-linux-gnu.so -> geodemic\n",
      "copying build/lib.linux-x86_64-3.7/geodemic/_transport_profiles.cpython-37m-x86_64-linux-gnu.so -> geodemic\n",
      "copying build/lib.linux-x86_64-3.7/geodemic/cgeodemic.cpython-37m-x86_64-linux-gnu.so -> geodemic\n",
      "copying build/lib.linux-x86_64-3.7/geodemic/simulation.cpython-37m-x86_64-linux-gnu.so -> geodemic\n"
     ]
    }
   ],
   "source": [
    "%load_ext cython\n",
    "\n",
    "# Compile and import local geoSIR module\n",
    "import os, sys\n",
    "owd = os.getcwd()\n",
    "os.chdir('../../')\n",
    "!sh local_setup.sh\n",
    "os.chdir(owd)\n",
    "\n",
    "sys.path.insert(0,'..')\n",
    "sys.path.insert(0,'../..')\n",
    "\n",
    "import numpy as np\n",
    "import matplotlib as mpl\n",
    "import matplotlib.pyplot as plt\n",
    "from sim_utils import *\n",
    "import geodemic\n",
    "\n",
    "import datetime\n",
    "import time"
   ]
  },
  {
   "cell_type": "markdown",
   "metadata": {},
   "source": [
    "Simulation parameters"
   ]
  },
  {
   "cell_type": "code",
   "execution_count": 24,
   "metadata": {},
   "outputs": [],
   "source": [
    "model_path = 'model.json' \n",
    "commuter_networks_path = 'commuter_networks.csv'\n",
    "node_parameters_path = 'node_parameters.csv'\n",
    "cnode_parameters_path = 'cnode_parameters.csv' \n",
    "contact_matrices_path = 'contact_matrices.json' \n",
    "node_cmatrices_path = 'node_cmatrices.csv' \n",
    "cnode_cmatrices_path = 'cnode_cmatrices.csv' \n",
    "node_positions_path = 'node_positions.csv' \n",
    "node_populations_path = 'node_populations.csv' "
   ]
  },
  {
   "cell_type": "code",
   "execution_count": 30,
   "metadata": {},
   "outputs": [],
   "source": [
    "event_times = [ 24*60*200, 24*60*300 ]\n",
    "\n",
    "def event_function(cg, step_i, t, dt, X_state, dX_state):    \n",
    "    if not cg.is_commuting_stopped():\n",
    "        print(\"Day %s: Imposing lockdown.\" % (t / (24*60)))\n",
    "        cmat = cg.get_contact_matrix('C_standard')\n",
    "        cg.storage['cmat'] = np.array(cmat)\n",
    "        cmat[:] = 0\n",
    "        cg.stop_commuting(True)\n",
    "    else:\n",
    "        print(\"Day %s: Releasing lockdown.\" % (t / (24*60)))\n",
    "        cmat = cg.get_contact_matrix('C_standard')\n",
    "        cmat[:] = cg.storage['cmat']\n",
    "        cg.stop_commuting(False)\n",
    "    "
   ]
  },
  {
   "cell_type": "markdown",
   "metadata": {},
   "source": [
    "Simulation settings"
   ]
  },
  {
   "cell_type": "code",
   "execution_count": 31,
   "metadata": {},
   "outputs": [],
   "source": [
    "t_start = 0\n",
    "t_end = 24*60*1000\n",
    "dt = 1"
   ]
  },
  {
   "cell_type": "markdown",
   "metadata": {},
   "source": [
    "Run simulation"
   ]
  },
  {
   "cell_type": "code",
   "execution_count": 32,
   "metadata": {},
   "outputs": [
    {
     "name": "stdout",
     "output_type": "stream",
     "text": [
      "Day 200.0: Imposing lockdown.\n",
      "Day 300.0: Releasing lockdown.\n",
      "Simulation complete. Run-time (h): 0.000436799857351515\n"
     ]
    }
   ],
   "source": [
    "sim = geodemic.simulation()\n",
    "\n",
    "X_state = sim.initialize(model_path, commuter_networks_path,\n",
    "                            node_parameters_path, cnode_parameters_path,\n",
    "                            contact_matrices_path, node_cmatrices_path, cnode_cmatrices_path,\n",
    "                            node_populations_path)\n",
    "\n",
    "start_time = time.time()\n",
    "dX_state = np.zeros(X_state.size)\n",
    "sim_data = sim.simulate(X_state, t_start, t_end, dt, steps_per_save=24*60,\n",
    "                       event_times=event_times, event_function=event_function)\n",
    "end_time = time.time()\n",
    "sim_time = (end_time - start_time)/(60*60)\n",
    "print(\"Simulation complete. Run-time (h): %s\" % sim_time)\n",
    "\n",
    "ts, node_data, cnode_data, location_data, community_data, network_data = geodemic.utils.get_simulation_data(sim_data)\n",
    "\n",
    "ts = ts / (24*60)"
   ]
  },
  {
   "cell_type": "markdown",
   "metadata": {},
   "source": [
    "## Plot data"
   ]
  },
  {
   "cell_type": "code",
   "execution_count": 33,
   "metadata": {},
   "outputs": [
    {
     "data": {
      "text/plain": [
       "<matplotlib.legend.Legend at 0x7fae48fecb00>"
      ]
     },
     "execution_count": 33,
     "metadata": {},
     "output_type": "execute_result"
    },
    {
     "data": {
      "image/png": "[encoded data removed]",
      "text/plain": [
       "<Figure size 576x216 with 1 Axes>"
      ]
     },
     "metadata": {
      "needs_background": "light"
     },
     "output_type": "display_data"
    }
   ],
   "source": [
    "plt.figure( figsize=(8,3) )\n",
    "\n",
    "S = np.sum(network_data[:,:,0], axis=1)\n",
    "E = np.sum(network_data[:,:,1], axis=1)\n",
    "A = np.sum(network_data[:,:,2], axis=1)\n",
    "I = np.sum(network_data[:,:,3], axis=1)\n",
    "R = np.sum(network_data[:,:,4], axis=1)\n",
    "N = S + E + A + I + R\n",
    "\n",
    "plt.plot(ts, S, label=\"S\")\n",
    "plt.plot(ts, E, label=\"E\")\n",
    "plt.plot(ts, A, label=\"A\")\n",
    "plt.plot(ts, I, label=\"I\")\n",
    "plt.plot(ts, R, label=\"R\")\n",
    "plt.plot(ts, N, label=\"N\")\n",
    "\n",
    "plt.legend(loc='upper right', fontsize=12)"
   ]
  },
  {
   "cell_type": "code",
   "execution_count": 34,
   "metadata": {},
   "outputs": [
    {
     "data": {
      "text/plain": [
       "<matplotlib.legend.Legend at 0x7fae48f69f28>"
      ]
     },
     "execution_count": 34,
     "metadata": {},
     "output_type": "execute_result"
    },
    {
     "data": {
      "image/png": "[encoded data removed]",
      "text/plain": [
       "<Figure size 576x216 with 1 Axes>"
      ]
     },
     "metadata": {
      "needs_background": "light"
     },
     "output_type": "display_data"
    }
   ],
   "source": [
    "plt.figure( figsize=(8,3) )\n",
    "\n",
    "loc = 0\n",
    "\n",
    "S = np.sum(location_data[:,:,0,loc], axis=1)\n",
    "E = np.sum(location_data[:,:,1,loc], axis=1)\n",
    "A = np.sum(location_data[:,:,2,loc], axis=1)\n",
    "I = np.sum(location_data[:,:,3,loc], axis=1)\n",
    "R = np.sum(location_data[:,:,4,loc], axis=1)\n",
    "N = S + E + A + I + R\n",
    "\n",
    "plt.plot(ts, S, label=\"S\")\n",
    "plt.plot(ts, E+A+I, label=\"I\")\n",
    "plt.plot(ts, R, label=\"R\")\n",
    "plt.plot(ts, N, label=\"N\")\n",
    "\n",
    "plt.legend(loc='upper right', fontsize=12)"
   ]
  }
 ],
 "metadata": {
  "kernelspec": {
   "display_name": "Python 3",
   "language": "python",
   "name": "python3"
  },
  "language_info": {
   "codemirror_mode": {
    "name": "ipython",
    "version": 3
   },
   "file_extension": ".py",
   "mimetype": "text/x-python",
   "name": "python",
   "nbconvert_exporter": "python",
   "pygments_lexer": "ipython3",
   "version": "3.7.4"
  }
 },
 "nbformat": 4,
 "nbformat_minor": 4
}
