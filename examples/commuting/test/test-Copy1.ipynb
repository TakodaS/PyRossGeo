{
 "cells": [
  {
   "cell_type": "code",
   "execution_count": 1,
   "metadata": {},
   "outputs": [
    {
     "name": "stdout",
     "output_type": "stream",
     "text": [
      "Compiling pyrossgeo/_simulation.pyx because it changed.\n",
      "[1/1] Cythonizing pyrossgeo/_simulation.pyx\n",
      "running build_ext\n",
      "building 'pyrossgeo._simulation' extension\n",
      "gcc -pthread -B /home/lukas/anaconda3/compiler_compat -Wl,--sysroot=/ -Wsign-compare -DNDEBUG -g -fwrapv -O3 -Wall -Wstrict-prototypes -fPIC -I/home/lukas/anaconda3/include/python3.7m -c pyrossgeo/_simulation.c -o build/temp.linux-x86_64-3.7/pyrossgeo/_simulation.o\n",
      "In file included from \u001b[01m\u001b[K/usr/include/numpy/ndarraytypes.h:1809:0\u001b[m\u001b[K,\n",
      "                 from \u001b[01m\u001b[K/usr/include/numpy/ndarrayobject.h:18\u001b[m\u001b[K,\n",
      "                 from \u001b[01m\u001b[K/usr/include/numpy/arrayobject.h:4\u001b[m\u001b[K,\n",
      "                 from \u001b[01m\u001b[Kpyrossgeo/_simulation.c:611\u001b[m\u001b[K:\n",
      "\u001b[01m\u001b[K/usr/include/numpy/npy_1_7_deprecated_api.h:15:2:\u001b[m\u001b[K \u001b[01;35m\u001b[Kwarning: \u001b[m\u001b[K#warning \"Using deprecated NumPy API, disable it by \" \"#defining NPY_NO_DEPRECATED_API NPY_1_7_API_VERSION\" [\u001b[01;35m\u001b[K-Wcpp\u001b[m\u001b[K]\n",
      " #\u001b[01;35m\u001b[Kwarning\u001b[m\u001b[K \"Using deprecated NumPy API, disable it by \" \\\n",
      "  \u001b[01;35m\u001b[K^~~~~~~\u001b[m\u001b[K\n",
      "\u001b[01m\u001b[Kpyrossgeo/_simulation.c:\u001b[m\u001b[K In function ‘\u001b[01m\u001b[K__pyx_f_9pyrossgeo_11_simulation_simulate\u001b[m\u001b[K’:\n",
      "\u001b[01m\u001b[Kpyrossgeo/_simulation.c:5732:210:\u001b[m\u001b[K \u001b[01;35m\u001b[Kwarning: \u001b[m\u001b[K‘\u001b[01m\u001b[K__pyx_v_Ti\u001b[m\u001b[K’ may be used uninitialized in this function [\u001b[01;35m\u001b[K-Wmaybe-uninitialized\u001b[m\u001b[K]\n",
      " rofile_c_r)) * __pyx_v_transport_profile_integrated_r) * (__pyx_v_Ts\u001b[01;35m\u001b[K[\u001b[m\u001b[K__pyx_v_Ti]).r_T_Delta_t);\n",
      "                                                                     \u001b[01;35m\u001b[K^\u001b[m\u001b[K\n",
      "\u001b[01m\u001b[Kpyrossgeo/_simulation.c:6161:21:\u001b[m\u001b[K \u001b[01;35m\u001b[Kwarning: \u001b[m\u001b[K‘\u001b[01m\u001b[K__pyx_v_X_states_saved_col_num\u001b[m\u001b[K’ may be used uninitialized in this function [\u001b[01;35m\u001b[K-Wmaybe-uninitialized\u001b[m\u001b[K]\n",
      "         __pyx_t_4 = \u001b[01;35m\u001b[K__Pyx_PyObject_GetSlice(((PyObject *)__pyx_v_X_state_arr), 0, __pyx_v_X_states_saved_col_num, NULL, NULL, NULL, 0, 1, 0)\u001b[m\u001b[K; if (unlikely(!__pyx_t_4)) __PYX_ERR(0, 437, __pyx_L1_error)\n",
      "                     \u001b[01;35m\u001b[K^~~~~~~~~~~~~~~~~~~~~~~~~~~~~~~~~~~~~~~~~~~~~~~~~~~~~~~~~~~~~~~~~~~~~~~~~~~~~~~~~~~~~~~~~~~~~~~~~~~~~~~~~~~~~~~~~~~~~~~~\u001b[m\u001b[K\n",
      "gcc -pthread -shared -B /home/lukas/anaconda3/compiler_compat -L/home/lukas/anaconda3/lib -Wl,-rpath=/home/lukas/anaconda3/lib -Wl,--no-as-needed -Wl,--sysroot=/ build/temp.linux-x86_64-3.7/pyrossgeo/_simulation.o -o build/lib.linux-x86_64-3.7/pyrossgeo/_simulation.cpython-37m-x86_64-linux-gnu.so\n",
      "copying build/lib.linux-x86_64-3.7/pyrossgeo/Simulation.cpython-37m-x86_64-linux-gnu.so -> pyrossgeo\n",
      "copying build/lib.linux-x86_64-3.7/pyrossgeo/__defs__.cpython-37m-x86_64-linux-gnu.so -> pyrossgeo\n",
      "copying build/lib.linux-x86_64-3.7/pyrossgeo/_helpers.cpython-37m-x86_64-linux-gnu.so -> pyrossgeo\n",
      "copying build/lib.linux-x86_64-3.7/pyrossgeo/_initialization.cpython-37m-x86_64-linux-gnu.so -> pyrossgeo\n",
      "copying build/lib.linux-x86_64-3.7/pyrossgeo/_simulation.cpython-37m-x86_64-linux-gnu.so -> pyrossgeo\n"
     ]
    }
   ],
   "source": [
    "# Compile and import local pyrossgeo module\n",
    "import os, sys\n",
    "owd = os.getcwd()\n",
    "os.chdir('../../../')\n",
    "sys.path.insert(0,'../../../')\n",
    "!sh local_setup.sh\n",
    "os.chdir(owd)\n",
    "\n",
    "import numpy as np\n",
    "import matplotlib as mpl\n",
    "import matplotlib.pyplot as plt\n",
    "import pyrossgeo\n",
    "\n",
    "import datetime\n",
    "import time"
   ]
  },
  {
   "cell_type": "markdown",
   "metadata": {},
   "source": [
    "Simulation parameters"
   ]
  },
  {
   "cell_type": "code",
   "execution_count": 2,
   "metadata": {},
   "outputs": [],
   "source": [
    "model_path = 'model.json' \n",
    "commuter_networks_path = 'commuter_networks.csv'\n",
    "node_parameters_path = 'node_parameters.csv'\n",
    "cnode_parameters_path = 'cnode_parameters.csv' \n",
    "contact_matrices_path = 'contact_matrices.json' \n",
    "node_cmatrices_path = 'node_cmatrices.csv' \n",
    "cnode_cmatrices_path = 'cnode_cmatrices.csv' \n",
    "node_positions_path = 'node_positions.csv' \n",
    "node_populations_path = 'node_populations.csv' "
   ]
  },
  {
   "cell_type": "markdown",
   "metadata": {},
   "source": [
    "Simulation settings"
   ]
  },
  {
   "cell_type": "code",
   "execution_count": 3,
   "metadata": {},
   "outputs": [],
   "source": [
    "t_start = 0\n",
    "t_end = 24*60*1\n",
    "\n",
    "_, dts = pyrossgeo.utils.get_dt_schedule([\n",
    "    (0,  1*60),\n",
    "    (6*60,  1),\n",
    "    (10*60, 2*60),\n",
    "    (16*60, 1),\n",
    "    (19*60, 2*60)\n",
    "], end_time=24*60)"
   ]
  },
  {
   "cell_type": "markdown",
   "metadata": {},
   "source": [
    "Run simulation"
   ]
  },
  {
   "cell_type": "code",
   "execution_count": 21,
   "metadata": {},
   "outputs": [
    {
     "name": "stdout",
     "output_type": "stream",
     "text": [
      "570.0\n",
      "540.0\n",
      "1140.0\n",
      "1140.0\n",
      "Simulation complete. Run-time (h): 1.937283409966363e-06\n"
     ]
    }
   ],
   "source": [
    "sim = pyrossgeo.Simulation()\n",
    "\n",
    "X_state = sim.initialize(model_path, commuter_networks_path,\n",
    "                            node_parameters_path, cnode_parameters_path,\n",
    "                            contact_matrices_path, node_cmatrices_path, cnode_cmatrices_path,\n",
    "                            node_populations_path)\n",
    "\n",
    "start_time = time.time()\n",
    "dX_state = np.zeros(X_state.size)\n",
    "sim_data = sim.simulate(X_state, t_start, t_end, dts, steps_per_save=1)\n",
    "end_time = time.time()\n",
    "sim_time = (end_time - start_time)/(60*60)\n",
    "print(\"Simulation complete. Run-time (h): %s\" % sim_time)\n",
    "\n",
    "ts, node_data, cnode_data, location_data, community_data, network_data = pyrossgeo.utils.get_simulation_data(sim_data)\n",
    "\n",
    "ts_days = ts / (24*60)\n",
    "ts_hours = ts / 60"
   ]
  },
  {
   "cell_type": "markdown",
   "metadata": {},
   "source": [
    "## Plot data"
   ]
  },
  {
   "cell_type": "code",
   "execution_count": 6,
   "metadata": {},
   "outputs": [
    {
     "data": {
      "text/plain": [
       "<matplotlib.legend.Legend at 0x7faec5272a50>"
      ]
     },
     "execution_count": 6,
     "metadata": {},
     "output_type": "execute_result"
    },
    {
     "data": {
      "image/png": "[encoded data removed]",
      "text/plain": [
       "<Figure size 864x360 with 1 Axes>"
      ]
     },
     "metadata": {
      "needs_background": "light"
     },
     "output_type": "display_data"
    }
   ],
   "source": [
    "plt.figure( figsize=(12,5) )\n",
    "\n",
    "S = np.sum(network_data[:,:,0], axis=1)\n",
    "E = np.sum(network_data[:,:,1], axis=1)\n",
    "A = np.sum(network_data[:,:,2], axis=1)\n",
    "Ia = np.sum(network_data[:,:,3], axis=1)\n",
    "Is = np.sum(network_data[:,:,4], axis=1)\n",
    "Ih = np.sum(network_data[:,:,5], axis=1)\n",
    "Ic = np.sum(network_data[:,:,6], axis=1)\n",
    "Im = np.sum(network_data[:,:,7], axis=1)\n",
    "R = np.sum(network_data[:,:,8], axis=1)\n",
    "N = np.sum(network_data[:,:,:], axis=(1,2))\n",
    "\n",
    "ts_days2 = ts_days - 24*3\n",
    "s = (ts_days2 > 0) *  (ts_days2 < 20000)\n",
    "\n",
    "\n",
    "\n",
    "plt.plot(ts_days2[s], S[s], label=\"S\")\n",
    "plt.plot(ts_days2[s], E[s], label=\"E\")\n",
    "plt.plot(ts_days2[s], A[s], label=\"A\")\n",
    "plt.plot(ts_days2[s], Ia[s], label=\"Ia\")\n",
    "plt.plot(ts_days2[s], Is[s], label=\"Is\")\n",
    "plt.plot(ts_days2[s], Ih[s], label=\"Ih\")\n",
    "plt.plot(ts_days2[s], Ic[s], label=\"Ic\")\n",
    "plt.plot(ts_days2[s], Im[s], label=\"Im\")\n",
    "plt.plot(ts_days2[s], R[s], label=\"R\")\n",
    "plt.plot(ts_days2[s], N[s], label=\"N\")\n",
    "\n",
    "plt.legend(loc='upper right', fontsize=12)"
   ]
  },
  {
   "cell_type": "code",
   "execution_count": 7,
   "metadata": {},
   "outputs": [
    {
     "data": {
      "image/png": "[encoded data removed]",
      "text/plain": [
       "<Figure size 576x216 with 1 Axes>"
      ]
     },
     "metadata": {
      "needs_background": "light"
     },
     "output_type": "display_data"
    }
   ],
   "source": [
    "plt.figure( figsize=(8,3) )\n",
    "\n",
    "loc = 0\n",
    "\n",
    "S = np.sum(location_data[:,:,0,loc], axis=1)\n",
    "E = np.sum(location_data[:,:,1,loc], axis=1)\n",
    "A = np.sum(location_data[:,:,2,loc], axis=1)\n",
    "Ia = np.sum(location_data[:,:,3,loc], axis=1)\n",
    "Is = np.sum(location_data[:,:,4,loc], axis=1)\n",
    "Ih = np.sum(location_data[:,:,5,loc], axis=1)\n",
    "Ic = np.sum(location_data[:,:,6,loc], axis=1)\n",
    "Im = np.sum(location_data[:,:,7,loc], axis=1)\n",
    "R = np.sum(location_data[:,:,8,loc], axis=1)\n",
    "N = np.sum(location_data[:,:,:,loc], axis=(1,2))\n",
    "\n",
    "ts_days2 = ts_days - 24*3\n",
    "s = (ts_days2 > 16.66) *  (ts_days2 < 100)\n",
    "\n",
    "#plt.plot(ts_days[s], S[s], label=\"S\")\n",
    "#plt.plot(ts_days[s], E[s], label=\"E\")\n",
    "#plt.plot(ts_days[s], A[s], label=\"A\")\n",
    "#plt.plot(ts_days[s], I[s], label=\"I\")\n",
    "#plt.plot(ts_days[s], R[s], label=\"R\")\n",
    "plt.plot(ts_days2[s], N[s], label=\"N\")\n",
    "\n",
    "plt.legend(loc='upper right', fontsize=12)\n",
    "plt.xlabel('Days')\n",
    "plt.show()"
   ]
  },
  {
   "cell_type": "code",
   "execution_count": 16,
   "metadata": {},
   "outputs": [
    {
     "data": {
      "image/png": "[encoded data removed]",
      "text/plain": [
       "<Figure size 576x216 with 1 Axes>"
      ]
     },
     "metadata": {
      "needs_background": "light"
     },
     "output_type": "display_data"
    }
   ],
   "source": [
    "plt.figure( figsize=(8,3) )\n",
    "\n",
    "home = 0\n",
    "fro = 0\n",
    "to = 1\n",
    "\n",
    "S = np.sum(cnode_data[home,fro,to][:,:,0], axis=1)\n",
    "E = np.sum(cnode_data[home,fro,to][:,:,1], axis=1)\n",
    "A = np.sum(cnode_data[home,fro,to][:,:,2], axis=1)\n",
    "Ia = np.sum(cnode_data[home,fro,to][:,:,3], axis=1)\n",
    "Is = np.sum(cnode_data[home,fro,to][:,:,4], axis=1)\n",
    "Ih = np.sum(cnode_data[home,fro,to][:,:,5], axis=1)\n",
    "Ic = np.sum(cnode_data[home,fro,to][:,:,6], axis=1)\n",
    "Im = np.sum(cnode_data[home,fro,to][:,:,7], axis=1)\n",
    "R = np.sum(cnode_data[home,fro,to][:,:,8], axis=1)\n",
    "N = np.sum(cnode_data[home,fro,to][:,:,:], axis=(1,2))\n",
    "\n",
    "ts_hours2 = ts_hours\n",
    "s = (ts_hours2 > 5) *  (ts_hours2 < 10)\n",
    "#ts_hours2 =  ts_hours2 + 88*24\n",
    "\n",
    "#plt.plot(ts_hours[s], S[s], label=\"S\")\n",
    "#plt.plot(ts_hours[s], E[s], label=\"E\")\n",
    "#plt.plot(ts_hours[s], A[s], label=\"A\")\n",
    "#plt.plot(ts_hours[s], I[s], label=\"I\")\n",
    "#plt.plot(ts_hours[s], R[s], label=\"R\")\n",
    "plt.plot(ts_hours2[s], N[s], label=\"N\")\n",
    "\n",
    "plt.legend(loc='upper right', fontsize=12)\n",
    "plt.xlabel('Days')\n",
    "plt.show()"
   ]
  },
  {
   "cell_type": "code",
   "execution_count": 22,
   "metadata": {},
   "outputs": [
    {
     "data": {
      "image/png": "[encoded data removed]",
      "text/plain": [
       "<Figure size 576x216 with 1 Axes>"
      ]
     },
     "metadata": {
      "needs_background": "light"
     },
     "output_type": "display_data"
    }
   ],
   "source": [
    "plt.figure( figsize=(8,3) )\n",
    "\n",
    "home = 1\n",
    "fro = 1\n",
    "to = 0\n",
    "\n",
    "S = np.sum(cnode_data[home,fro,to][:,:,0], axis=1)\n",
    "E = np.sum(cnode_data[home,fro,to][:,:,1], axis=1)\n",
    "A = np.sum(cnode_data[home,fro,to][:,:,2], axis=1)\n",
    "Ia = np.sum(cnode_data[home,fro,to][:,:,3], axis=1)\n",
    "Is = np.sum(cnode_data[home,fro,to][:,:,4], axis=1)\n",
    "Ih = np.sum(cnode_data[home,fro,to][:,:,5], axis=1)\n",
    "Ic = np.sum(cnode_data[home,fro,to][:,:,6], axis=1)\n",
    "Im = np.sum(cnode_data[home,fro,to][:,:,7], axis=1)\n",
    "R = np.sum(cnode_data[home,fro,to][:,:,8], axis=1)\n",
    "N = np.sum(cnode_data[home,fro,to][:,:,:], axis=(1,2))\n",
    "\n",
    "ts_hours2 =  ts_hours\n",
    "s = (ts_hours2 > 5) *  (ts_hours2 < 10)\n",
    "\n",
    "#plt.plot(ts_hours2[s], S[s], label=\"S\")\n",
    "#plt.plot(ts_hours2[s], E[s], label=\"E\")\n",
    "#plt.plot(ts_hours2[s], A[s], label=\"I\")\n",
    "#plt.plot(ts_hours2[s], Is[s], label=\"I\")\n",
    "#plt.plot(ts_hours2[s], R[s], label=\"R\")\n",
    "plt.plot(ts_hours2[s], N[s], label=\"N\")\n",
    "\n",
    "plt.legend(loc='upper right', fontsize=12)\n",
    "plt.xlabel('Days')\n",
    "plt.show()"
   ]
  }
 ],
 "metadata": {
  "kernelspec": {
   "display_name": "Python 3",
   "language": "python",
   "name": "python3"
  },
  "language_info": {
   "codemirror_mode": {
    "name": "ipython",
    "version": 3
   },
   "file_extension": ".py",
   "mimetype": "text/x-python",
   "name": "python",
   "nbconvert_exporter": "python",
   "pygments_lexer": "ipython3",
   "version": "3.7.4"
  }
 },
 "nbformat": 4,
 "nbformat_minor": 4
}
